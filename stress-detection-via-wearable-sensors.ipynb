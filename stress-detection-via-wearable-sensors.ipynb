{
 "cells": [
  {
   "cell_type": "markdown",
   "id": "22adbca7",
   "metadata": {
    "papermill": {
     "duration": 0.003652,
     "end_time": "2025-03-12T20:52:41.110017",
     "exception": false,
     "start_time": "2025-03-12T20:52:41.106365",
     "status": "completed"
    },
    "tags": []
   },
   "source": [
    "# Importing Librariesss"
   ]
  },
  {
   "cell_type": "code",
   "execution_count": 1,
   "id": "86210983",
   "metadata": {
    "execution": {
     "iopub.execute_input": "2025-03-12T20:52:41.116580Z",
     "iopub.status.busy": "2025-03-12T20:52:41.116262Z",
     "iopub.status.idle": "2025-03-12T20:52:41.125027Z",
     "shell.execute_reply": "2025-03-12T20:52:41.124029Z"
    },
    "papermill": {
     "duration": 0.01375,
     "end_time": "2025-03-12T20:52:41.126490",
     "exception": false,
     "start_time": "2025-03-12T20:52:41.112740",
     "status": "completed"
    },
    "tags": []
   },
   "outputs": [],
   "source": [
    "import pickle \n",
    "from IPython.display import display\n",
    "import numpy as np\n",
    "import matplotlib.pyplot as plt"
   ]
  },
  {
   "cell_type": "markdown",
   "id": "4fed058f",
   "metadata": {
    "papermill": {
     "duration": 0.002198,
     "end_time": "2025-03-12T20:52:41.131693",
     "exception": false,
     "start_time": "2025-03-12T20:52:41.129495",
     "status": "completed"
    },
    "tags": []
   },
   "source": [
    "# Exploring Pickle file of Subject 2"
   ]
  },
  {
   "cell_type": "code",
   "execution_count": 2,
   "id": "6ef60d91",
   "metadata": {
    "execution": {
     "iopub.execute_input": "2025-03-12T20:52:41.138152Z",
     "iopub.status.busy": "2025-03-12T20:52:41.137694Z",
     "iopub.status.idle": "2025-03-12T20:52:51.559422Z",
     "shell.execute_reply": "2025-03-12T20:52:51.558034Z"
    },
    "papermill": {
     "duration": 10.426925,
     "end_time": "2025-03-12T20:52:51.561117",
     "exception": false,
     "start_time": "2025-03-12T20:52:41.134192",
     "status": "completed"
    },
    "tags": []
   },
   "outputs": [
    {
     "name": "stdout",
     "output_type": "stream",
     "text": [
      "{'signal': {'chest': {'ACC': array([[ 0.95539999, -0.222     , -0.55799997],\n",
      "       [ 0.92579997, -0.2216    , -0.55379999],\n",
      "       [ 0.90820003, -0.21960002, -0.53920001],\n",
      "       ...,\n",
      "       [ 0.87179995, -0.12379998, -0.30419999],\n",
      "       [ 0.87300003, -0.12339997, -0.30260003],\n",
      "       [ 0.87020004, -0.12199998, -0.30220002]]), 'ECG': array([[ 0.02142334],\n",
      "       [ 0.02032471],\n",
      "       [ 0.01652527],\n",
      "       ...,\n",
      "       [-0.00544739],\n",
      "       [ 0.00013733],\n",
      "       [ 0.0040741 ]]), 'EMG': array([[-0.00444031],\n",
      "       [ 0.00434875],\n",
      "       [ 0.00517273],\n",
      "       ...,\n",
      "       [-0.01716614],\n",
      "       [-0.02897644],\n",
      "       [-0.02357483]]), 'EDA': array([[5.25054932],\n",
      "       [5.26733398],\n",
      "       [5.24330139],\n",
      "       ...,\n",
      "       [0.36048889],\n",
      "       [0.36582947],\n",
      "       [0.365448  ]]), 'Temp': array([[30.120758],\n",
      "       [30.129517],\n",
      "       [30.138214],\n",
      "       ...,\n",
      "       [31.459229],\n",
      "       [31.484283],\n",
      "       [31.456268]], dtype=float32), 'Resp': array([[-1.14898682],\n",
      "       [-1.12457275],\n",
      "       [-1.15203857],\n",
      "       ...,\n",
      "       [-1.10321045],\n",
      "       [-1.08642578],\n",
      "       [-1.09710693]])}, 'wrist': {'ACC': array([[ 62., -21., 107.],\n",
      "       [ 66.,  13.,  53.],\n",
      "       [ 41.,   9.,  15.],\n",
      "       ...,\n",
      "       [ 41.,  25.,  11.],\n",
      "       [ 39.,  27.,  22.],\n",
      "       [ 56.,  26.,  10.]]), 'BVP': array([[-59.37],\n",
      "       [-53.42],\n",
      "       [-44.4 ],\n",
      "       ...,\n",
      "       [ 18.26],\n",
      "       [ 18.68],\n",
      "       [ 19.71]]), 'EDA': array([[1.138257],\n",
      "       [1.125444],\n",
      "       [1.011405],\n",
      "       ...,\n",
      "       [0.059208],\n",
      "       [0.073303],\n",
      "       [0.045113]]), 'TEMP': array([[35.41],\n",
      "       [35.41],\n",
      "       [35.41],\n",
      "       ...,\n",
      "       [34.23],\n",
      "       [34.23],\n",
      "       [34.23]])}}, 'label': array([0, 0, 0, ..., 0, 0, 0], dtype=int32), 'subject': 'S2'}\n"
     ]
    }
   ],
   "source": [
    "file_path = \"/kaggle/input/wesad-full-dataset/WESAD/S2/S2.pkl\"\n",
    "\n",
    "with open(file_path, \"rb\") as file:\n",
    "    s2 = pickle.load(file, encoding=\"latin1\")\n",
    "\n",
    "print(s2)\n"
   ]
  },
  {
   "cell_type": "code",
   "execution_count": 3,
   "id": "6cdf38f6",
   "metadata": {
    "execution": {
     "iopub.execute_input": "2025-03-12T20:52:51.567732Z",
     "iopub.status.busy": "2025-03-12T20:52:51.567398Z",
     "iopub.status.idle": "2025-03-12T20:52:51.571488Z",
     "shell.execute_reply": "2025-03-12T20:52:51.570708Z"
    },
    "papermill": {
     "duration": 0.008892,
     "end_time": "2025-03-12T20:52:51.572864",
     "exception": false,
     "start_time": "2025-03-12T20:52:51.563972",
     "status": "completed"
    },
    "tags": []
   },
   "outputs": [
    {
     "name": "stdout",
     "output_type": "stream",
     "text": [
      "<class 'dict'>\n"
     ]
    }
   ],
   "source": [
    "print(type(s2))"
   ]
  },
  {
   "cell_type": "code",
   "execution_count": 4,
   "id": "f3d90aaf",
   "metadata": {
    "execution": {
     "iopub.execute_input": "2025-03-12T20:52:51.579834Z",
     "iopub.status.busy": "2025-03-12T20:52:51.579496Z",
     "iopub.status.idle": "2025-03-12T20:52:51.584422Z",
     "shell.execute_reply": "2025-03-12T20:52:51.583225Z"
    },
    "papermill": {
     "duration": 0.010123,
     "end_time": "2025-03-12T20:52:51.586028",
     "exception": false,
     "start_time": "2025-03-12T20:52:51.575905",
     "status": "completed"
    },
    "tags": []
   },
   "outputs": [
    {
     "name": "stdout",
     "output_type": "stream",
     "text": [
      "dict_keys(['signal', 'label', 'subject'])\n"
     ]
    }
   ],
   "source": [
    "print(s2.keys())"
   ]
  },
  {
   "cell_type": "code",
   "execution_count": 5,
   "id": "9b0c9155",
   "metadata": {
    "execution": {
     "iopub.execute_input": "2025-03-12T20:52:51.593359Z",
     "iopub.status.busy": "2025-03-12T20:52:51.593035Z",
     "iopub.status.idle": "2025-03-12T20:52:51.598752Z",
     "shell.execute_reply": "2025-03-12T20:52:51.597614Z"
    },
    "papermill": {
     "duration": 0.01106,
     "end_time": "2025-03-12T20:52:51.600375",
     "exception": false,
     "start_time": "2025-03-12T20:52:51.589315",
     "status": "completed"
    },
    "tags": []
   },
   "outputs": [
    {
     "name": "stdout",
     "output_type": "stream",
     "text": [
      "dict_keys(['chest', 'wrist'])\n"
     ]
    }
   ],
   "source": [
    "print(s2['signal'].keys())"
   ]
  },
  {
   "cell_type": "code",
   "execution_count": 6,
   "id": "7087b2b1",
   "metadata": {
    "execution": {
     "iopub.execute_input": "2025-03-12T20:52:51.608866Z",
     "iopub.status.busy": "2025-03-12T20:52:51.608510Z",
     "iopub.status.idle": "2025-03-12T20:52:51.613849Z",
     "shell.execute_reply": "2025-03-12T20:52:51.612228Z"
    },
    "papermill": {
     "duration": 0.011806,
     "end_time": "2025-03-12T20:52:51.615293",
     "exception": false,
     "start_time": "2025-03-12T20:52:51.603487",
     "status": "completed"
    },
    "tags": []
   },
   "outputs": [
    {
     "name": "stdout",
     "output_type": "stream",
     "text": [
      "dict_keys(['ACC', 'ECG', 'EMG', 'EDA', 'Temp', 'Resp'])\n"
     ]
    }
   ],
   "source": [
    "print(s2['signal']['chest'].keys())"
   ]
  },
  {
   "cell_type": "markdown",
   "id": "72778a4f",
   "metadata": {
    "papermill": {
     "duration": 0.002673,
     "end_time": "2025-03-12T20:52:51.622062",
     "exception": false,
     "start_time": "2025-03-12T20:52:51.619389",
     "status": "completed"
    },
    "tags": []
   },
   "source": [
    "## Plotting ECG Signal"
   ]
  },
  {
   "cell_type": "code",
   "execution_count": 7,
   "id": "710db2fe",
   "metadata": {
    "execution": {
     "iopub.execute_input": "2025-03-12T20:52:51.630275Z",
     "iopub.status.busy": "2025-03-12T20:52:51.629914Z",
     "iopub.status.idle": "2025-03-12T20:52:51.960167Z",
     "shell.execute_reply": "2025-03-12T20:52:51.959162Z"
    },
    "papermill": {
     "duration": 0.335781,
     "end_time": "2025-03-12T20:52:51.961369",
     "exception": false,
     "start_time": "2025-03-12T20:52:51.625588",
     "status": "completed"
    },
    "tags": []
   },
   "outputs": [
    {
     "data": {
      "image/png": "[encoded data removed]",
      "text/plain": [
       "<Figure size 1000x400 with 1 Axes>"
      ]
     },
     "metadata": {},
     "output_type": "display_data"
    }
   ],
   "source": [
    "ecg_data = s2['signal']['chest']['ECG'][:5000]\n",
    "\n",
    "\n",
    "# تحويل المصفوفة إلى شكل 1D (تفريغ القيم من الشكل العمودي)\n",
    "ecg_signal = ecg_data.flatten()\n",
    "\n",
    "# إنشاء محور الزمن بناءً على عدد العينات\n",
    "time = np.arange(len(ecg_signal))\n",
    "\n",
    "# رسم إشارة ECG\n",
    "plt.figure(figsize=(10, 4))  # تحديد حجم الرسم\n",
    "plt.plot(time, ecg_signal, color='b', linewidth=1)  # رسم الخط\n",
    "plt.xlabel(\"Sample Index\")  # تسمية المحور الأفقي\n",
    "plt.ylabel(\"ECG Signal Amplitude\")  # تسمية المحور الرأسي\n",
    "plt.title(\"ECG Signal\")  # عنوان الرسم\n",
    "plt.grid(True)  # تفعيل الشبكة\n",
    "plt.show()  # عرض الرسم\n"
   ]
  },
  {
   "cell_type": "code",
   "execution_count": 8,
   "id": "47c06ce9",
   "metadata": {
    "execution": {
     "iopub.execute_input": "2025-03-12T20:52:51.970470Z",
     "iopub.status.busy": "2025-03-12T20:52:51.970056Z",
     "iopub.status.idle": "2025-03-12T20:52:51.975149Z",
     "shell.execute_reply": "2025-03-12T20:52:51.973892Z"
    },
    "papermill": {
     "duration": 0.011601,
     "end_time": "2025-03-12T20:52:51.976959",
     "exception": false,
     "start_time": "2025-03-12T20:52:51.965358",
     "status": "completed"
    },
    "tags": []
   },
   "outputs": [
    {
     "name": "stdout",
     "output_type": "stream",
     "text": [
      "<class 'numpy.ndarray'> <class 'numpy.ndarray'> <class 'numpy.ndarray'>\n"
     ]
    }
   ],
   "source": [
    "print(type(ecg_data), type(ecg_signal), type(time))"
   ]
  },
  {
   "cell_type": "code",
   "execution_count": 9,
   "id": "9cff9480",
   "metadata": {
    "execution": {
     "iopub.execute_input": "2025-03-12T20:52:51.988654Z",
     "iopub.status.busy": "2025-03-12T20:52:51.988273Z",
     "iopub.status.idle": "2025-03-12T20:52:51.994000Z",
     "shell.execute_reply": "2025-03-12T20:52:51.992502Z"
    },
    "papermill": {
     "duration": 0.012705,
     "end_time": "2025-03-12T20:52:51.995544",
     "exception": false,
     "start_time": "2025-03-12T20:52:51.982839",
     "status": "completed"
    },
    "tags": []
   },
   "outputs": [
    {
     "name": "stdout",
     "output_type": "stream",
     "text": [
      "[[ 0.02142334]\n",
      " [ 0.02032471]\n",
      " [ 0.01652527]\n",
      " ...\n",
      " [-0.1003418 ]\n",
      " [-0.09645081]\n",
      " [-0.09269714]]\n"
     ]
    }
   ],
   "source": [
    "print(ecg_data)"
   ]
  },
  {
   "cell_type": "code",
   "execution_count": 10,
   "id": "7abecc10",
   "metadata": {
    "execution": {
     "iopub.execute_input": "2025-03-12T20:52:52.010845Z",
     "iopub.status.busy": "2025-03-12T20:52:52.010416Z",
     "iopub.status.idle": "2025-03-12T20:52:52.015855Z",
     "shell.execute_reply": "2025-03-12T20:52:52.014730Z"
    },
    "papermill": {
     "duration": 0.017614,
     "end_time": "2025-03-12T20:52:52.017337",
     "exception": false,
     "start_time": "2025-03-12T20:52:51.999723",
     "status": "completed"
    },
    "tags": []
   },
   "outputs": [
    {
     "name": "stdout",
     "output_type": "stream",
     "text": [
      "[ 0.02142334  0.02032471  0.01652527 ... -0.1003418  -0.09645081\n",
      " -0.09269714]\n"
     ]
    }
   ],
   "source": [
    "print(ecg_signal)"
   ]
  },
  {
   "cell_type": "code",
   "execution_count": 11,
   "id": "a0194302",
   "metadata": {
    "execution": {
     "iopub.execute_input": "2025-03-12T20:52:52.029433Z",
     "iopub.status.busy": "2025-03-12T20:52:52.028991Z",
     "iopub.status.idle": "2025-03-12T20:52:52.034617Z",
     "shell.execute_reply": "2025-03-12T20:52:52.033125Z"
    },
    "papermill": {
     "duration": 0.013177,
     "end_time": "2025-03-12T20:52:52.036488",
     "exception": false,
     "start_time": "2025-03-12T20:52:52.023311",
     "status": "completed"
    },
    "tags": []
   },
   "outputs": [
    {
     "name": "stdout",
     "output_type": "stream",
     "text": [
      "[   0    1    2 ... 4997 4998 4999]\n"
     ]
    }
   ],
   "source": [
    "print(time)"
   ]
  }
 ],
 "metadata": {
  "kaggle": {
   "accelerator": "none",
   "dataSources": [
    {
     "datasetId": 6775341,
     "sourceId": 10901489,
     "sourceType": "datasetVersion"
    }
   ],
   "dockerImageVersionId": 30918,
   "isGpuEnabled": false,
   "isInternetEnabled": true,
   "language": "python",
   "sourceType": "notebook"
  },
  "kernelspec": {
   "display_name": "Python 3",
   "language": "python",
   "name": "python3"
  },
  "language_info": {
   "codemirror_mode": {
    "name": "ipython",
    "version": 3
   },
   "file_extension": ".py",
   "mimetype": "text/x-python",
   "name": "python",
   "nbconvert_exporter": "python",
   "pygments_lexer": "ipython3",
   "version": "3.10.12"
  },
  "papermill": {
   "default_parameters": {},
   "duration": 14.551915,
   "end_time": "2025-03-12T20:52:52.666904",
   "environment_variables": {},
   "exception": null,
   "input_path": "__notebook__.ipynb",
   "output_path": "__notebook__.ipynb",
   "parameters": {},
   "start_time": "2025-03-12T20:52:38.114989",
   "version": "2.6.0"
  }
 },
 "nbformat": 4,
 "nbformat_minor": 5
}
